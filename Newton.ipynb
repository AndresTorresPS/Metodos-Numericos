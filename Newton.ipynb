{
 "cells": [
  {
   "cell_type": "markdown",
   "metadata": {},
   "source": [
    "Algoritmo del Método de Newton: Su enfoque se basa en la idea de encontrar una raíz de una función mediante rectas tangentes iterativamente."
   ]
  },
  {
   "cell_type": "code",
   "execution_count": 78,
   "metadata": {},
   "outputs": [],
   "source": [
    "import math\n",
    "import numpy as np\n",
    "import sympy as sp\n",
    "import pandas as pd\n",
    "\n",
    "def derivate(f_string):\n",
    "\n",
    "    # Calcula la derivada de f\n",
    "    x = sp.Symbol('x')\n",
    "    f = sp.sympify(f_string)\n",
    "    f_prime = f.diff(x)\n",
    "\n",
    "    # Convierte la expresión f de sp a numpy\n",
    "    f = sp.lambdify(x, f, \"numpy\")\n",
    "    f_prime = sp.lambdify(x, f_prime, \"numpy\")\n",
    "\n",
    "    return f, f_prime\n",
    "\n",
    "def newton(f_string, old_p, tolerance, n):\n",
    "\n",
    "    # Derivar f\n",
    "    f, f_prime = derivate(f_string)\n",
    "\n",
    "    # Tabla de resultados del algoritmo\n",
    "    columns = [u\"n\",\n",
    "               u\"p\\u2099\",\n",
    "               u\"f(p\\u2099)\",\n",
    "               u\"Error absoluto (p\\u2099, p\\u2099\\u208B\\u2081)\",\n",
    "               \"Error relativo (p\\u2099, p\\u2099\\u208B\\u2081)\"]\n",
    "    results = pd.DataFrame(columns=columns)\n",
    "\n",
    "    # Algoritmo del Método de Newton\n",
    "    i = 1\n",
    "    while i <= n:\n",
    "        # Nuevo p\n",
    "        p=old_p-f(old_p)/f_prime(old_p)\n",
    "        # Error absoluto: Distancia entre el nuevo p y el p anterior\n",
    "        absolute_error = abs(p-old_p)\n",
    "        # Error relativo: Error absoluto / nuevo p\n",
    "        relative_error = absolute_error/abs(p)\n",
    "        # Registro de iteración en la tabla de resultados\n",
    "        row = [i, p, f(p), absolute_error, relative_error]\n",
    "        results.loc[len(results)] = row\n",
    "        # Se detiene si la imagen de p es 0 o el error absoluto es menor que la tolerancia\n",
    "        if abs(f(p))<=1e-20 or absolute_error < tolerance:\n",
    "            break\n",
    "        # Nueva iteración\n",
    "        i+=1\n",
    "        old_p=p\n",
    "\n",
    "    return results\n",
    "    "
   ]
  },
  {
   "cell_type": "markdown",
   "metadata": {},
   "source": [
    "Ejemplo 1: Se utiliza el Algoritmo del Método de Newton para encontrar una raíz de la función f(x)=2sen(x)-x con un p0 = 1, con una tolerancia de 1EXP−10 y un número máximo de intentos de 100."
   ]
  },
  {
   "cell_type": "code",
   "execution_count": 60,
   "metadata": {},
   "outputs": [
    {
     "name": "stdout",
     "output_type": "stream",
     "text": [
      "Resultados:\n",
      " n                            1.400000e+01\n",
      "pₙ                           1.895494e+00\n",
      "f(pₙ)                        0.000000e+00\n",
      "Error absoluto (pₙ, pₙ₋₁)    5.195844e-14\n",
      "Name: 13, dtype: float64\n"
     ]
    }
   ],
   "source": [
    "# Parámetros del Ejemplo 1\n",
    "f = \"2*sin(x)-x\"\n",
    "old_p=1\n",
    "tolerance=1e-10\n",
    "n = 100\n",
    "\n",
    "# Ejemplo 1\n",
    "results = newton(f, old_p, tolerance, n)\n",
    "print(\"Resultados:\\n\",results.iloc[len(results)-1,:4])\n",
    "\n",
    "# Guarda los resultados como CSV\n",
    "output_folder = \"Resultados/\"\n",
    "file_name = \"newton_ex_1.csv\"\n",
    "results.to_csv(output_folder+file_name, index=False, encoding='utf-8-sig')"
   ]
  },
  {
   "cell_type": "markdown",
   "metadata": {},
   "source": [
    "Ejemplo 2: Se utiliza el Algoritmo del Método de Newton para encontrar una raíz de la función f(x)=x5-3x4+10x-8 con un p0=3, con una tolerancia de 1EXP−10 y un número máximo de intentos de 100."
   ]
  },
  {
   "cell_type": "code",
   "execution_count": 80,
   "metadata": {},
   "outputs": [
    {
     "name": "stdout",
     "output_type": "stream",
     "text": [
      "Resultados:\n",
      "      n        pₙ         f(pₙ)  Error absoluto (pₙ, pₙ₋₁)  \\\n",
      "0  1.0  2.758242  5.589425e+00               2.417582e-01   \n",
      "1  2.0  2.640786  9.381331e-01               1.174558e-01   \n",
      "2  3.0  2.611626  4.892142e-02               2.916011e-02   \n",
      "3  4.0  2.609930  1.590178e-04               1.695818e-03   \n",
      "4  5.0  2.609924  1.698311e-09               5.548260e-06   \n",
      "5  6.0  2.609924 -3.552714e-15               5.925660e-11   \n",
      "\n",
      "   Error relativo (pₙ, pₙ₋₁)  \n",
      "0               8.764940e-02  \n",
      "1               4.447759e-02  \n",
      "2               1.116550e-02  \n",
      "3               6.497561e-04  \n",
      "4               2.125832e-06  \n",
      "5               2.270433e-11  \n"
     ]
    }
   ],
   "source": [
    "# Parámetros del Ejemplo 2\n",
    "f = \"x**5-3*x**4+10*x-8\"\n",
    "old_p=3\n",
    "tolerance=1e-10\n",
    "n = 100\n",
    "\n",
    "# Ejemplo 2\n",
    "results = newton(f, old_p, tolerance, n)\n",
    "print(\"Resultados:\\n\",results)\n",
    "\n",
    "# Guarda los resultados como CSV\n",
    "output_folder = \"Resultados/\"\n",
    "file_name = \"newton_ex_2.csv\"\n",
    "results.to_csv(output_folder+file_name, index=False, encoding='utf-8-sig')"
   ]
  },
  {
   "cell_type": "markdown",
   "metadata": {},
   "source": [
    "Ejemplo 3: Se utiliza el Algoritmo del Método de Newton para encontrar una raíz de la función f(x)=2sen2(x)-3cos(x) con un p0=5, con una tolerancia de 1EXP−10 y un número máximo de intentos de 100."
   ]
  },
  {
   "cell_type": "code",
   "execution_count": 79,
   "metadata": {},
   "outputs": [
    {
     "name": "stdout",
     "output_type": "stream",
     "text": [
      "Resultados:\n",
      "      n        pₙ         f(pₙ)  Error absoluto (pₙ, pₙ₋₁)  \\\n",
      "0  1.0  5.249213 -5.730870e-02               2.492134e-01   \n",
      "1  2.0  5.235996 -3.631043e-05               1.321724e-02   \n",
      "2  3.0  5.235988 -1.757638e-11               8.385526e-06   \n",
      "3  4.0  5.235988 -6.661338e-16               4.058975e-12   \n",
      "4  5.0  5.235988 -6.661338e-16               0.000000e+00   \n",
      "\n",
      "   Error relativo (pₙ, pₙ₋₁)  \n",
      "0               4.747633e-02  \n",
      "1               2.524303e-03  \n",
      "2               1.601518e-06  \n",
      "3               7.752072e-13  \n",
      "4               0.000000e+00  \n"
     ]
    }
   ],
   "source": [
    "# Parámetros del Ejemplo 3\n",
    "f = \"2*sin(x)**2-3*cos(x)\"\n",
    "old_p=5\n",
    "tolerance=1e-14\n",
    "n = 100\n",
    "\n",
    "# Ejemplo 2\n",
    "results = newton(f, old_p, tolerance, n)\n",
    "print(\"Resultados:\\n\",results)\n",
    "\n",
    "# Guarda los resultados como CSV\n",
    "output_folder = \"Resultados/\"\n",
    "file_name = \"newton_ex_3.csv\"\n",
    "results.to_csv(output_folder+file_name, index=False, encoding='utf-8-sig')"
   ]
  }
 ],
 "metadata": {
  "kernelspec": {
   "display_name": "Python 3",
   "language": "python",
   "name": "python3"
  },
  "language_info": {
   "codemirror_mode": {
    "name": "ipython",
    "version": 3
   },
   "file_extension": ".py",
   "mimetype": "text/x-python",
   "name": "python",
   "nbconvert_exporter": "python",
   "pygments_lexer": "ipython3",
   "version": "3.10.4"
  },
  "orig_nbformat": 4
 },
 "nbformat": 4,
 "nbformat_minor": 2
}
