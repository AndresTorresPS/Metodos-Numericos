{
 "cells": [
  {
   "cell_type": "markdown",
   "metadata": {},
   "source": [
    "Algoritmo del Método de Bisección: Bajo las condiciones del teorema de Bolzano, el método se basa en dividir el intervalo inicial [a, b] en dos subintervalos tomando el punto medio a + b / 2 para luego determinar en cual de ellos se encuentra la raíz buscada y luego repetir este procedimiento n-veces hasta “encerrar” a la raíz en un subintervalo [an, bn] suficientemente pequeño, incluso más pequeño que la cota de error E."
   ]
  },
  {
   "cell_type": "code",
   "execution_count": 25,
   "metadata": {},
   "outputs": [],
   "source": [
    "import math\n",
    "import numpy as np\n",
    "import pandas as pd\n",
    "\n",
    "def bisection(f, a, b, tolerance, n):\n",
    "\n",
    "    # Estimación de iteraciones\n",
    "    estimation = int(np.log((b-a)/tolerance)/np.log(2))\n",
    "    print(\"Iteraciones estimadas:\", estimation)\n",
    "    \n",
    "    # Tabla de resultados del algoritmo\n",
    "    columns = [u\"n\", \n",
    "               u\"a\\u2099\", \n",
    "               u\"f(a\\u2099)\", \n",
    "               u\"b\\u2099\", \n",
    "               u\"f(b\\u2099)\",\n",
    "               u\"p\\u2099\",\n",
    "               u\"f(p\\u2099)\",\n",
    "               u\"Error absoluto (p\\u2099, p\\u2099\\u208B\\u2081)\",\n",
    "               \"Error relativo (p\\u2099, p\\u2099\\u208B\\u2081)\"]\n",
    "    results = pd.DataFrame(columns=columns)\n",
    "\n",
    "    # Algoritmo del Método de Bisección\n",
    "    i = 1\n",
    "    while i <= n:\n",
    "        # Nuevo punto medio\n",
    "        p=a+(b-a)/2\n",
    "        # Error absoluto: Distancia entre el nuevo p y el p anterior (que es a o b)\n",
    "        absolute_error = (b-a)/2\n",
    "        # Error relativo: Error absoluto / nuevo p\n",
    "        relative_error = absolute_error/abs(p)\n",
    "        # Registro de iteración en la tabla de resultados\n",
    "        row = [i, a, f(a), b, f(b), p, f(p), absolute_error, relative_error]\n",
    "        results.loc[len(results)] = row\n",
    "        # Se detiene si la imagen de p es 0 o el error absoluto es menor que la tolerancia\n",
    "        if abs(f(p))<=1e-15 or absolute_error < tolerance:\n",
    "            break\n",
    "        # Si la imagen de a y de p tienen signo distinto, la raíz está entre a y p, entonces b ahora es p (teorema de Bolzano)\n",
    "        if f(a)*f(p)<0:\n",
    "            b=p\n",
    "        # Si la imagen de a y de p tienen el mismo signo, la raíz está entre p y b, entonces a ahora es p (teorema de Bolzano)\n",
    "        else:\n",
    "            a=p\n",
    "        # Nueva iteración\n",
    "        i+=1\n",
    "\n",
    "    return results\n",
    "    "
   ]
  },
  {
   "cell_type": "markdown",
   "metadata": {},
   "source": [
    "Ejemplo 1: Se utiliza el Algoritmo del Método de Bisección para encontrar una raíz de la función f(x)=10x4−3xex−3ex en el intervalo [-1, -0.25] con una tolerancia de 1EXP−4 y un número máximo de intentos de 100."
   ]
  },
  {
   "cell_type": "code",
   "execution_count": 24,
   "metadata": {},
   "outputs": [
    {
     "name": "stdout",
     "output_type": "stream",
     "text": [
      "Iteraciones estimadas: 12\n",
      "Resultados:\n",
      " n                            13.000000\n",
      "pₙ                           -0.534821\n",
      "f(pₙ)                         0.000678\n",
      "Error absoluto (pₙ, pₙ₋₁)     0.000092\n",
      "Name: 12, dtype: float64\n"
     ]
    }
   ],
   "source": [
    "# Parámetros del Ejemplo 1\n",
    "f = lambda x: 10*x**4-3*x*math.exp(x)-3*math.exp(x)\n",
    "a=-1\n",
    "b=-0.25\n",
    "tolerance=1e-4\n",
    "n = 100\n",
    "\n",
    "# Ejemplo 1\n",
    "results = bisection(f, a, b, tolerance, n)\n",
    "print(\"Resultados:\\n\",results.iloc[len(results)-1, [0,5,6,7]])\n",
    "\n",
    "# Guarda los resultados como CSV\n",
    "output_folder = \"Resultados/\"\n",
    "file_name = \"bisection_ex_1.csv\"\n",
    "results.to_csv(output_folder+file_name, index=False, encoding='utf-8-sig')"
   ]
  }
 ],
 "metadata": {
  "kernelspec": {
   "display_name": "Python 3",
   "language": "python",
   "name": "python3"
  },
  "language_info": {
   "codemirror_mode": {
    "name": "ipython",
    "version": 3
   },
   "file_extension": ".py",
   "mimetype": "text/x-python",
   "name": "python",
   "nbconvert_exporter": "python",
   "pygments_lexer": "ipython3",
   "version": "3.10.4"
  },
  "orig_nbformat": 4
 },
 "nbformat": 4,
 "nbformat_minor": 2
}
